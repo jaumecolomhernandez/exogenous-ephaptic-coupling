{
 "cells": [
  {
   "cell_type": "markdown",
   "metadata": {},
   "source": [
    "copy of [2017-10-24-frequency-entrainement](2017-10-24-frequency-entrainement.ipynb)"
   ]
  },
  {
   "cell_type": "code",
   "execution_count": 4,
   "metadata": {},
   "outputs": [],
   "source": [
    "import sys\n",
    "sys.path.append('../libs/')"
   ]
  },
  {
   "cell_type": "code",
   "execution_count": 26,
   "metadata": {},
   "outputs": [],
   "source": [
    "import matplotlib.pyplot as plt\n",
    "%matplotlib inline\n",
    "from mean_field_model import *\n",
    "from scipy import signal\n",
    "from matplotlib import gridspec\n",
    "from matplotlib import transforms"
   ]
  },
  {
   "cell_type": "markdown",
   "metadata": {},
   "source": [
    "# Simulate a pair of coupled oscillators driven by stimulus"
   ]
  },
  {
   "cell_type": "code",
   "execution_count": 27,
   "metadata": {},
   "outputs": [],
   "source": [
    "uV = 1e-6 * V\n",
    "nV = 1e-9 * V"
   ]
  },
  {
   "cell_type": "code",
   "execution_count": 28,
   "metadata": {},
   "outputs": [],
   "source": [
    "tau_adapt = 800 * ms # adaptation time constant\n",
    "beta_adapt = 0.00005*mV / Hz # strength of adaptation (per firing rate of E population)\n",
    "gamma_ephaptic = -100 * uV / (6000*Hz) # ephaptic coupling coefficient\n",
    "dt = 1 * ms # integration time step\n",
    "tau_e = 10*ms # time constant of excitatory population\n",
    "tau_i = 5* ms # time constant of inhibitory population\n",
    "threshold_inh0 = -51 * mV # inhibitory threshold"
   ]
  },
  {
   "cell_type": "markdown",
   "metadata": {},
   "source": [
    "Define the system of three differential equations describing E population, I population and adaptation potential:\n",
    "\n",
    "$$\\tau_e\\frac{\\nu_e}{dt}=-\\nu_e+n_ef_e(\\nu_e+\\nu_{\\mathrm{ext}}, \\nu_i)  + \\sigma_{\\mathrm{e}}\\eta_t \\\\\n",
    "\\tau_i\\frac{\\nu_i}{dt}=-\\nu_i+ n_i f_i(\\nu_e+\\nu_{\\mathrm{ext}}, \\nu_i)+ \\sigma_{\\mathrm{i}}\\eta_t \\\\\n",
    "\\tau_{\\mathrm{adapt}}\\frac{dU_{\\mathrm{adapt}}}{dt}=-U_{\\mathrm{adapt}} + \\beta \\nu_{exc}$$\n"
   ]
  },
  {
   "cell_type": "code",
   "execution_count": 29,
   "metadata": {},
   "outputs": [],
   "source": [
    "def solve_ei_dynamics(f_ext, n_e, n_i, threshold_exc, threshold_inh, tau_e=1*s, tau_i=1*s):\n",
    "    def _update(rinh, rexc, ephaptic, theta_adapt, external):\n",
    "        fexc, finh = calc_output_rate_inh_exc(rexc + f_ext + external, rinh, n_e, n_i, \n",
    "                               threshold_exc + theta_adapt - ephaptic, threshold_inh)\n",
    "        rinh += (-rinh + finh) * dt / tau_i\n",
    "        rexc += (-rexc + fexc) * dt / tau_e\n",
    "        theta_adapt += (-(theta_adapt + 0.0 * mV) +  beta_adapt * rexc) * dt / tau_adapt\n",
    "        \n",
    "        return rinh, rexc, theta_adapt\n",
    "    return _update\n"
   ]
  },
  {
   "cell_type": "markdown",
   "metadata": {},
   "source": [
    "Simulate a pair of E/I populations coupled through the electric field. The coupling is between the excitatory firing rate of one population and membrane potential of the other."
   ]
  },
  {
   "cell_type": "code",
   "execution_count": 30,
   "metadata": {},
   "outputs": [],
   "source": [
    "f_ext0 = 1000. # external firing rate\n",
    "\n",
    "\n",
    "def single_trial(update_func, external_drive, noise_e, noise_i, tmax, gamma_ephaptic):\n",
    "\n",
    "\n",
    "    rexc = np.ones(2) * 100 * Hz\n",
    "    rinh = np.ones(2) * 100 * Hz\n",
    "    theta_adapt = np.zeros(2) * mV\n",
    "    t = 0\n",
    "    solution= []\n",
    "    while t < tmax:\n",
    "        rexc_old0, rexc_old1 = rexc[0], rexc[1]\n",
    "        rexc += np.random.randn(2) * noise_e\n",
    "        rinh += np.random.randn(2) * noise_i\n",
    "        rexc = np.maximum(rexc, 0)\n",
    "        rinh = np.maximum(rinh, 0)\n",
    "        rinh[0], rexc[0], theta_adapt[0] = update_func(rinh[0], \n",
    "                                                       rexc[0],\n",
    "                                                       0, #gamma_ephaptic * rexc_old1,\n",
    "                                                       theta_adapt[0],\n",
    "                                                       external_drive(t))\n",
    "        rinh[1], rexc[1], theta_adapt[1] = update_func(rinh[1],\n",
    "                                                       rexc[1],\n",
    "                                                       gamma_ephaptic * rexc_old0,\n",
    "                                                       theta_adapt[1],\n",
    "                                                       0)\n",
    "        \n",
    "\n",
    "\n",
    "        t += dt\n",
    "        solution.append((rexc, rinh, theta_adapt.copy()))\n",
    "    solution = np.array(solution)\n",
    "    return solution"
   ]
  },
  {
   "cell_type": "code",
   "execution_count": 31,
   "metadata": {},
   "outputs": [],
   "source": [
    "def square_wave(amplitude, period, duration, delay=0):\n",
    "    def _value(t):\n",
    "        return amplitude * (np.mod(t, period) < duration) * (t > delay)\n",
    "    return _value"
   ]
  },
  {
   "cell_type": "markdown",
   "metadata": {},
   "source": [
    "## Sample stimulation protocol"
   ]
  },
  {
   "cell_type": "markdown",
   "metadata": {},
   "source": [
    "To simulate the glutamate injections in the experimental protocol, in the mode we trigger UP states by depolarising excitatory population. This is repeated periodically with a given frequency. The duration of a single stimulation pulse is 0.35 s."
   ]
  },
  {
   "cell_type": "code",
   "execution_count": 32,
   "metadata": {},
   "outputs": [],
   "source": [
    "depolarisation_glutamate =  1000. * Hz\n",
    "glutamate_delay = 10.\n",
    "glutamate_frequency = 1. * Hz\n",
    "glutamate_duration = 0.35 * s\n",
    "glutamate_application = square_wave(depolarisation_glutamate,\n",
    "                                    1./glutamate_frequency,\n",
    "                                    glutamate_duration,\n",
    "                                    glutamate_delay)\n",
    "update_func = solve_ei_dynamics(f_ext0, n_e, n_i, threshold, threshold_inh0,  tau_e=tau_e, tau_i=tau_i)\n",
    "\n",
    "noise_e, noise_i = 2000 * Hz / s * np.sqrt(dt), 0\n",
    "tmax = 100 * s\n",
    "solution = single_trial(update_func, glutamate_application, noise_e, noise_i, tmax, gamma_ephaptic)"
   ]
  },
  {
   "cell_type": "code",
   "execution_count": 33,
   "metadata": {},
   "outputs": [
    {
     "data": {
      "text/plain": [
       "Text(0.5, 0, 'time, s')"
      ]
     },
     "execution_count": 33,
     "metadata": {},
     "output_type": "execute_result"
    },
    {
     "data": {
      "image/png": "[encoded data removed]",
      "text/plain": [
       "<Figure size 432x288 with 2 Axes>"
      ]
     },
     "metadata": {
      "needs_background": "light"
     },
     "output_type": "display_data"
    }
   ],
   "source": [
    "gs = gridspec.GridSpec(3,1, height_ratios=[2, 1, 1])\n",
    "ax1 = plt.subplot(gs[0])\n",
    "\n",
    "time = np.arange(solution.shape[0]) * dt\n",
    "glu_signal = glutamate_application(time)\n",
    "lines = plt.plot(time, solution[:, 0, 0], 'b')\n",
    "lines = plt.plot(time, solution[:, 1, 0], 'r')\n",
    "plt.plot(time, glu_signal / depolarisation_glutamate * solution[:, 0, 0].max(), 'k-')\n",
    "\n",
    "ax1.spines['top'].set_visible(False)\n",
    "ax1.spines['bottom'].set_visible(False)\n",
    "ax1.spines['right'].set_visible(False)\n",
    "ax1.xaxis.set_ticks_position('none')\n",
    "ax1.yaxis.set_ticks_position('left')\n",
    "ax1.yaxis.set_tick_params(length=2)\n",
    "plt.setp(ax1.xaxis.get_ticklabels(), visible=False)\n",
    "plt.ylabel('firing rate, Hz')\n",
    "\n",
    "ax2 = plt.subplot(gs[1], sharex=ax1)\n",
    "plt.plot(time, solution[:, 2, 0] / mV, '-r')\n",
    "plt.ylabel('adaptation, mV')\n",
    "plt.xlim(0, 20)\n",
    "ax2.spines['top'].set_visible(False)\n",
    "ax2.xaxis.set_ticks_position('bottom')\n",
    "ax2.yaxis.set_ticks_position('left')\n",
    "ax2.spines['right'].set_visible(False)\n",
    "ax2.spines['bottom'].set_position(('outward', 10))\n",
    "ax2.yaxis.set_tick_params(length=2)\n",
    "ax2.xaxis.set_tick_params(length=2)\n",
    "plt.xlabel('time, s')"
   ]
  },
  {
   "cell_type": "markdown",
   "metadata": {},
   "source": [
    "**Supplementary Figure** Top: The total population firing rates of the excitatory (blue) and inhibitory (red) together with the train of stimulations triggering UP states (black). Bottom: The trace of adaptation variable."
   ]
  },
  {
   "cell_type": "markdown",
   "metadata": {},
   "source": [
    "## Low-pass filter"
   ]
  },
  {
   "cell_type": "markdown",
   "metadata": {},
   "source": [
    "To obtain band-limited signals corresponding to the UP/DOWN oscillation frequency, we low-pass filter the population firing rates. We design an infinite impulse response filter (IIR) using SciPy methods with the frequency band of [0, 5] Hz (order 17). Next, we apply the filter both directions (forward and backward) using SciPy's `filtfilt` method."
   ]
  },
  {
   "cell_type": "code",
   "execution_count": 57,
   "metadata": {},
   "outputs": [],
   "source": [
    "n_subsamp = 10\n",
    "y = solution[::n_subsamp, 0, :].copy()\n",
    "time_subsamp = time[::n_subsamp]\n",
    "filter_order = 17\n",
    "cutoff_frequency = 5.\n",
    "sampling_frequency = 1 / (dt * n_subsamp)\n",
    "b, a = signal.iirfilter(filter_order,  cutoff_frequency * 2 / sampling_frequency, btype='lowpass')\n",
    "y_filtered = signal.filtfilt(b, a, y[:], axis=0)"
   ]
  },
  {
   "cell_type": "code",
   "execution_count": 36,
   "metadata": {},
   "outputs": [
    {
     "data": {
      "text/plain": [
       "Text(0, 0.5, 'filter gain')"
      ]
     },
     "execution_count": 36,
     "metadata": {},
     "output_type": "execute_result"
    },
    {
     "data": {
      "image/png": "[encoded data removed]",
      "text/plain": [
       "<Figure size 432x288 with 1 Axes>"
      ]
     },
     "metadata": {
      "needs_background": "light"
     },
     "output_type": "display_data"
    }
   ],
   "source": [
    "f, resp = signal.freqz(b, a)\n",
    "plt.plot(f / (2 * np.pi) * sampling_frequency, np.abs(resp), lw=2)\n",
    "plt.axvline(cutoff_frequency, ls='--', color='k')\n",
    "plt.xlabel('frequency, Hz')\n",
    "plt.ylabel('filter gain')"
   ]
  },
  {
   "cell_type": "markdown",
   "metadata": {},
   "source": [
    "**Supplementary Figure** Frequency response of the designed IIR filter. Dashed line shows the cutoff frequency"
   ]
  },
  {
   "cell_type": "code",
   "execution_count": 37,
   "metadata": {},
   "outputs": [
    {
     "data": {
      "text/plain": [
       "Text(0.5, 0, 'time, s')"
      ]
     },
     "execution_count": 37,
     "metadata": {},
     "output_type": "execute_result"
    },
    {
     "data": {
      "image/png": "[encoded data removed]",
      "text/plain": [
       "<Figure size 432x288 with 2 Axes>"
      ]
     },
     "metadata": {
      "needs_background": "light"
     },
     "output_type": "display_data"
    }
   ],
   "source": [
    "tsel = (time_subsamp > 18) & (time_subsamp < (20. * s))\n",
    "ax1 = plt.subplot(211)\n",
    "plt.plot(time_subsamp[tsel], y[tsel, 0], 'r-', lw=0.5)\n",
    "plt.plot(time_subsamp[tsel], y_filtered[tsel, 0], 'r', lw=2)\n",
    "plt.plot(time_subsamp[tsel], y[tsel, 0], 'b-', lw=0.5)\n",
    "\n",
    "ax1.spines['left'].set_visible(False)\n",
    "ax1.spines['top'].set_visible(False)\n",
    "ax1.spines['bottom'].set_visible(False)\n",
    "ax1.spines['right'].set_visible(False)\n",
    "ax1.xaxis.set_ticks_position('none')\n",
    "ax1.yaxis.set_ticks_position('none')\n",
    "plt.setp(ax1.xaxis.get_ticklabels(), visible=False)\n",
    "plt.setp(ax1.yaxis.get_ticklabels(), visible=False)\n",
    "\n",
    "ax2 = plt.subplot(212, sharex=ax1, sharey=ax1)\n",
    "plt.plot(time_subsamp[tsel], y_filtered[tsel, 1], 'r', lw=2)\n",
    "plt.plot(time_subsamp[tsel], y[tsel, 1], 'b-', lw=0.5)\n",
    "ax2.spines['left'].set_visible(False)\n",
    "ax2.spines['top'].set_visible(False)\n",
    "ax2.spines['bottom'].set_position(('outward', 10))\n",
    "ax2.spines['right'].set_visible(False)\n",
    "ax2.xaxis.set_ticks_position('bottom')\n",
    "ax2.yaxis.set_ticks_position('none')\n",
    "ax2.xaxis.set_tick_params(length=2)\n",
    "plt.setp(ax2.yaxis.get_ticklabels(), visible=False)\n",
    "\n",
    "trans = transforms.blended_transform_factory(ax2.transAxes, ax2.transData)\n",
    "plt.plot([-0.02, -0.02], [6000, 8000], 'k-', transform=trans, clip_on=False)\n",
    "plt.text(-0.0, 7000, '2000 $s^{-1}$', ha='left', va='center', transform=trans)\n",
    "plt.xlabel('time, s')"
   ]
  },
  {
   "cell_type": "markdown",
   "metadata": {},
   "source": [
    "**Supplementary Figure** Filtered population rates (thick red) superimposed on the raw population rates (thin blue) for two excitatory populations."
   ]
  },
  {
   "cell_type": "markdown",
   "metadata": {},
   "source": [
    "## Detect UP states"
   ]
  },
  {
   "cell_type": "markdown",
   "metadata": {},
   "source": [
    "We detected the UP states by identifying points at which the excitatory population rate exceeds a threshold (equal to the standard deviation of the rate). These points correspond to DOWN-to-UP transitions."
   ]
  },
  {
   "cell_type": "code",
   "execution_count": 38,
   "metadata": {},
   "outputs": [
    {
     "data": {
      "text/plain": [
       "[<matplotlib.lines.Line2D at 0x7ff8b3131d68>]"
      ]
     },
     "execution_count": 38,
     "metadata": {},
     "output_type": "execute_result"
    },
    {
     "data": {
      "image/png": "[encoded data removed]",
      "text/plain": [
       "<Figure size 432x288 with 1 Axes>"
      ]
     },
     "metadata": {
      "needs_background": "light"
     },
     "output_type": "display_data"
    }
   ],
   "source": [
    "y_signal = y_filtered[:, 1]\n",
    "y_std = np.std(y_signal)\n",
    "n, x = np.histogram(y_signal, 100)\n",
    "plt.axvline(y_std, ls='--', color='k')\n",
    "plt.plot(x[:-1], n)"
   ]
  },
  {
   "cell_type": "code",
   "execution_count": 39,
   "metadata": {},
   "outputs": [
    {
     "data": {
      "text/plain": [
       "(0.0, 60.0)"
      ]
     },
     "execution_count": 39,
     "metadata": {},
     "output_type": "execute_result"
    },
    {
     "data": {
      "image/png": "[encoded data removed]",
      "text/plain": [
       "<Figure size 432x288 with 2 Axes>"
      ]
     },
     "metadata": {
      "needs_background": "light"
     },
     "output_type": "display_data"
    }
   ],
   "source": [
    "detection_threshold = y_std\n",
    "upstates = (y_signal > detection_threshold).astype(int)\n",
    "plt.plot(time_subsamp, upstates, 'g')\n",
    "plt.ylim(-0.1, 1.1)\n",
    "plt.twinx()\n",
    "plt.plot(time_subsamp, y_signal, 'r', lw=2)\n",
    "plt.axhline(detection_threshold, color='k', ls='--')\n",
    "plt.xlim(0, 60)"
   ]
  },
  {
   "cell_type": "code",
   "execution_count": 40,
   "metadata": {},
   "outputs": [
    {
     "data": {
      "text/plain": [
       "(10000,)"
      ]
     },
     "execution_count": 40,
     "metadata": {},
     "output_type": "execute_result"
    }
   ],
   "source": [
    "upstates.shape"
   ]
  },
  {
   "cell_type": "code",
   "execution_count": 41,
   "metadata": {},
   "outputs": [
    {
     "name": "stdout",
     "output_type": "stream",
     "text": [
      "19 0.19001900190019\n"
     ]
    },
    {
     "data": {
      "image/png": "[encoded data removed]",
      "text/plain": [
       "<Figure size 432x288 with 1 Axes>"
      ]
     },
     "metadata": {
      "needs_background": "light"
     },
     "output_type": "display_data"
    }
   ],
   "source": [
    "downup = np.diff(upstates)\n",
    "downup[downup < 0] = 0\n",
    "n_downup = np.sum(downup)\n",
    "freq_downup = n_downup / time_subsamp.max()\n",
    "plt.plot(time_subsamp[:-1], (downup))\n",
    "#plt.xlim(0, 20)\n",
    "print(n_downup, freq_downup)"
   ]
  },
  {
   "cell_type": "code",
   "execution_count": 42,
   "metadata": {},
   "outputs": [],
   "source": [
    "def detect_upstates(y_signal):\n",
    "    y_std = np.std(y_signal)\n",
    "    detection_threshold = y_std\n",
    "    upstates = (y_signal > detection_threshold).astype(int)\n",
    "    downup = np.diff(upstates)\n",
    "    indices, = np.where(downup > 0)\n",
    "    return indices"
   ]
  },
  {
   "cell_type": "markdown",
   "metadata": {},
   "source": [
    "# Dependency on stimulation frequency"
   ]
  },
  {
   "cell_type": "code",
   "execution_count": 43,
   "metadata": {},
   "outputs": [],
   "source": [
    "population_colors = ['y', 'g']"
   ]
  },
  {
   "cell_type": "markdown",
   "metadata": {},
   "source": [
    "## Sweep through stimulation frequencies"
   ]
  },
  {
   "cell_type": "code",
   "execution_count": 44,
   "metadata": {},
   "outputs": [],
   "source": [
    "def calc_pli(y):\n",
    "    \"\"\"\n",
    "    y - last axis has a dimension of 2 and contains signals from two different oscillators\n",
    "    \"\"\"\n",
    "    \n",
    "    phases = np.angle(signal.hilbert(y, axis=0))\n",
    "    pli = np.abs(np.mean(np.exp(np.diff(phases, 1)*1j)))\n",
    "    return pli   "
   ]
  },
  {
   "cell_type": "markdown",
   "metadata": {},
   "source": [
    "Simulate the coupled populations model with the stimulation for a range of stimulation frequencies from 0.1 to 1 Hz."
   ]
  },
  {
   "cell_type": "code",
   "execution_count": 53,
   "metadata": {},
   "outputs": [
    {
     "data": {
      "text/plain": [
       "(20000, 2)"
      ]
     },
     "execution_count": 53,
     "metadata": {},
     "output_type": "execute_result"
    }
   ],
   "source": [
    "y.shape"
   ]
  },
  {
   "cell_type": "code",
   "execution_count": 60,
   "metadata": {},
   "outputs": [],
   "source": [
    "stimulation_frequencies = np.arange(0.1, 1., 1/11.)\n",
    "\n",
    "filtered_signals = []\n",
    "glu_signals = []\n",
    "for gl_freq in stimulation_frequencies:\n",
    "    glutamate_application = square_wave(depolarisation_glutamate, 1./gl_freq, glutamate_duration, glutamate_delay)\n",
    "\n",
    "    tmax = 200 * s\n",
    "    solution = single_trial(update_func, glutamate_application, noise_e, noise_i, tmax, gamma_ephaptic)\n",
    "    \n",
    "    y = solution[::n_subsamp, 0, :].copy()\n",
    "    \n",
    "    y_filtered = signal.filtfilt(b, a, y[:], axis=0)\n",
    "    i0 = int(glutamate_delay / (dt * n_subsamp))\n",
    "    y_oscillations = y_filtered[i0:, :]\n",
    "    \n",
    "    filtered_signals.append(y_oscillations)\n",
    "    \n",
    "    time = np.arange(solution.shape[0]) * dt\n",
    "    time = time[::n_subsamp][i0:]\n",
    "    glu_signals.append(glutamate_application(time))\n",
    "    \n",
    "filtered_signals = np.array(filtered_signals)\n",
    "glu_signals = np.array(glu_signals)"
   ]
  },
  {
   "cell_type": "markdown",
   "metadata": {},
   "source": [
    "## Plot: sample excitatory rates of the two populations"
   ]
  },
  {
   "cell_type": "markdown",
   "metadata": {},
   "source": [
    "We plot sample excitatory rates from both populations for three different stimulation frequencies."
   ]
  },
  {
   "cell_type": "code",
   "execution_count": 48,
   "metadata": {},
   "outputs": [
    {
     "ename": "IndexError",
     "evalue": "index 3 is out of bounds for axis 0 with size 1",
     "output_type": "error",
     "traceback": [
      "\u001b[0;31m---------------------------------------------------------------------------\u001b[0m",
      "\u001b[0;31mIndexError\u001b[0m                                Traceback (most recent call last)",
      "\u001b[0;32m<ipython-input-48-01e5834291d5>\u001b[0m in \u001b[0;36m<module>\u001b[0;34m\u001b[0m\n\u001b[1;32m     12\u001b[0m         \u001b[0max\u001b[0m \u001b[0;34m=\u001b[0m \u001b[0maxes\u001b[0m\u001b[0;34m[\u001b[0m\u001b[0mi\u001b[0m\u001b[0;34m,\u001b[0m \u001b[0;34m:\u001b[0m\u001b[0;34m]\u001b[0m\u001b[0;34m\u001b[0m\u001b[0;34m\u001b[0m\u001b[0m\n\u001b[1;32m     13\u001b[0m         \u001b[0mi_sig\u001b[0m \u001b[0;34m=\u001b[0m \u001b[0mtrace_samples_idx\u001b[0m\u001b[0;34m[\u001b[0m\u001b[0mi\u001b[0m\u001b[0;34m]\u001b[0m\u001b[0;34m\u001b[0m\u001b[0;34m\u001b[0m\u001b[0m\n\u001b[0;32m---> 14\u001b[0;31m         \u001b[0mampl\u001b[0m \u001b[0;34m=\u001b[0m \u001b[0mfiltered_signals\u001b[0m\u001b[0;34m[\u001b[0m\u001b[0mi_sig\u001b[0m\u001b[0;34m,\u001b[0m \u001b[0;34m:\u001b[0m\u001b[0mn_points\u001b[0m\u001b[0;34m,\u001b[0m \u001b[0;34m:\u001b[0m\u001b[0;34m]\u001b[0m\u001b[0;34m.\u001b[0m\u001b[0mmax\u001b[0m\u001b[0;34m(\u001b[0m\u001b[0;34m)\u001b[0m\u001b[0;34m\u001b[0m\u001b[0;34m\u001b[0m\u001b[0m\n\u001b[0m\u001b[1;32m     15\u001b[0m         \u001b[0mglu_trace\u001b[0m \u001b[0;34m=\u001b[0m \u001b[0mglu_signals\u001b[0m\u001b[0;34m[\u001b[0m\u001b[0mi_sig\u001b[0m\u001b[0;34m,\u001b[0m \u001b[0;34m:\u001b[0m\u001b[0mn_points\u001b[0m\u001b[0;34m]\u001b[0m\u001b[0;34m\u001b[0m\u001b[0;34m\u001b[0m\u001b[0m\n\u001b[1;32m     16\u001b[0m         \u001b[0mt_upstates\u001b[0m \u001b[0;34m=\u001b[0m \u001b[0mdetect_upstates\u001b[0m\u001b[0;34m(\u001b[0m\u001b[0mglu_trace\u001b[0m\u001b[0;34m)\u001b[0m\u001b[0;34m\u001b[0m\u001b[0;34m\u001b[0m\u001b[0m\n",
      "\u001b[0;31mIndexError\u001b[0m: index 3 is out of bounds for axis 0 with size 1"
     ]
    },
    {
     "data": {
      "image/png": "[encoded data removed]",
      "text/plain": [
       "<Figure size 432x144 with 6 Axes>"
      ]
     },
     "metadata": {
      "needs_background": "light"
     },
     "output_type": "display_data"
    }
   ],
   "source": [
    "import matplotlib\n",
    "\n",
    "line_colors = matplotlib.cycler('color', population_colors)\n",
    "trace_samples_idx =  [0, 3, 9]\n",
    "\n",
    "n_points = 1500\n",
    "with matplotlib.style.context({'axes.prop_cycle':line_colors}):\n",
    "    fig, axes = plt.subplots(3, 2, sharex=True, sharey=False,\n",
    "                             subplot_kw={'frameon':False},\n",
    "                            figsize=(6, 2))\n",
    "    for i in range(len(trace_samples_idx)):\n",
    "        ax = axes[i, :]\n",
    "        i_sig = trace_samples_idx[i]\n",
    "        ampl = filtered_signals[i_sig, :n_points, :].max()\n",
    "        glu_trace = glu_signals[i_sig, :n_points]\n",
    "        t_upstates = detect_upstates(glu_trace)\n",
    "        \n",
    "        \n",
    "        #ax[0].plot(glu_trace / glu_trace.max() * ampl, 'r-')\n",
    "        ax[0].plot(filtered_signals[i_sig, :n_points, 0], lw=1,\n",
    "                   color=population_colors[0])\n",
    "        ax[1].plot(filtered_signals[i_sig, :n_points, 1], lw=1,\n",
    "                   color=population_colors[1])\n",
    "        trans = transforms.blended_transform_factory(ax[0].transData,\n",
    "                                                     ax[0].transAxes)\n",
    "        ax[0].vlines(t_upstates, -0.05, 0.1, transform=trans,\n",
    "                     zorder=10, lw=1.5, clip_on=False)\n",
    "        for a in ax:\n",
    "            a.xaxis.set_ticks_position('none')\n",
    "            a.yaxis.set_ticks_position('none')\n",
    "            a.yaxis.set_ticks([])\n",
    "            a.xaxis.set_ticks([])\n",
    "            a.text(-0.02, 1, str(i+1), transform=a.transAxes, va='top', ha='right', size=8)\n",
    "    trans = transforms.blended_transform_factory(axes[-1, 0].transData,\n",
    "                                                 axes[-1, 0].transAxes)\n",
    "    axes[-1, 0].plot([0, 2 / (dt * n_subsamp) ], [-0.2, -0.2], 'k', lw=1.5,\n",
    "                    transform=trans, clip_on=False)\n",
    "    axes[-1, 0].text(1. / (dt * n_subsamp), -0.25, '2 s', ha='center', va='top',\n",
    "                    transform=trans, clip_on=False)\n",
    "plt.savefig('figures/sync_traces.svg')"
   ]
  },
  {
   "cell_type": "markdown",
   "metadata": {},
   "source": [
    "## Plot: phase locking index vs. stimulation frequency"
   ]
  },
  {
   "cell_type": "markdown",
   "metadata": {},
   "source": [
    "Phase locking index is a measure of synchronisation between two oscillators. PLI close to 0 means that the oscillators are independent and their phases are not locked. PLI equal to 1 corresponds to perfect synchronisation."
   ]
  },
  {
   "cell_type": "code",
   "execution_count": null,
   "metadata": {},
   "outputs": [],
   "source": [
    "pli_vs_freq = []\n",
    "for y_oscillations in filtered_signals:\n",
    "    pli = calc_pli(y_oscillations)\n",
    "    pli_vs_freq.append(pli)\n",
    "pli_vs_freq = np.array(pli_vs_freq)"
   ]
  },
  {
   "cell_type": "code",
   "execution_count": null,
   "metadata": {},
   "outputs": [],
   "source": [
    "\n",
    "matplotlib.rcParams['xtick.major.size'] = 2.\n",
    "matplotlib.rcParams['ytick.major.size'] = 2.\n",
    "plt.figure(figsize=(3,2))\n",
    "ax = plt.subplot()\n",
    "plt.plot(stimulation_frequencies, pli_vs_freq,'ko', clip_on=False)\n",
    "plt.xlabel('stimulation frequency, Hz')\n",
    "plt.ylabel('phase locking index')\n",
    "ax.spines['top'].set_visible(False)\n",
    "ax.spines['right'].set_visible(False)\n",
    "ax.yaxis.set_ticks_position('left')\n",
    "ax.xaxis.set_ticks_position('bottom')\n",
    "ax.spines['left'].set_position(('outward', 5))\n",
    "\n",
    "for i, idx in enumerate(trace_samples_idx):\n",
    "    plt.annotate(str(i+1), (stimulation_frequencies[idx], pli_vs_freq[idx]),\n",
    "                         (0, -5),\n",
    "                 textcoords='offset points',\n",
    "                 ha='center', va='top',\n",
    "                 size=8)\n",
    "plt.savefig('figures/pli_vs_freq.svg')"
   ]
  },
  {
   "cell_type": "markdown",
   "metadata": {},
   "source": [
    "## Plot: Frequency of UP states vs. stimulatin frequency"
   ]
  },
  {
   "cell_type": "markdown",
   "metadata": {},
   "source": [
    "Count the UP states and plot their frequency vs. the stimulation frequency."
   ]
  },
  {
   "cell_type": "code",
   "execution_count": null,
   "metadata": {},
   "outputs": [],
   "source": [
    "def count_upstates(y_signal):\n",
    "    y_std = np.std(y_signal)\n",
    "    detection_threshold = y_std\n",
    "    upstates = (y_signal > detection_threshold).astype(int)\n",
    "    downup = np.diff(upstates)\n",
    "    downup[downup < 0] = 0\n",
    "    n_downup = np.sum(downup)\n",
    "    return n_downup"
   ]
  },
  {
   "cell_type": "code",
   "execution_count": null,
   "metadata": {},
   "outputs": [],
   "source": [
    "n_upstates = []\n",
    "for y_oscillations in filtered_signals:\n",
    "    nup1 = count_upstates(y_oscillations[:, 0])\n",
    "    nup2 = count_upstates(y_oscillations[:, 1])\n",
    "    n_upstates.append((nup1, nup2))\n",
    "n_upstates = np.array(n_upstates)\n"
   ]
  },
  {
   "cell_type": "code",
   "execution_count": null,
   "metadata": {},
   "outputs": [],
   "source": [
    "import matplotlib\n",
    "plt.figure(figsize=(3,2))\n",
    "\n",
    "line_colors = matplotlib.cycler('color', population_colors)\n",
    "with matplotlib.style.context({'axes.prop_cycle':line_colors}):\n",
    "    ax = plt.subplot(111)\n",
    "    ax.plot(stimulation_frequencies, n_upstates * 1. / tmax, lw=1.5)\n",
    "    ax.plot(stimulation_frequencies, stimulation_frequencies, 'k--')\n",
    "    ax.spines['top'].set_visible(False)\n",
    "    ax.spines['right'].set_visible(False)\n",
    "    ax.xaxis.set_ticks_position('bottom')\n",
    "    ax.yaxis.set_ticks_position('left')\n",
    "    plt.xlabel('stimulation frequency, Hz')\n",
    "    plt.ylabel('UP state frequency, Hz')\n",
    "plt.savefig('figures/up_state_frequency.svg')"
   ]
  },
  {
   "cell_type": "markdown",
   "metadata": {},
   "source": [
    "# Final figure"
   ]
  },
  {
   "cell_type": "code",
   "execution_count": null,
   "metadata": {},
   "outputs": [],
   "source": [
    "from svgutils import compose as sc"
   ]
  },
  {
   "cell_type": "code",
   "execution_count": null,
   "metadata": {},
   "outputs": [],
   "source": [
    "fig = sc.Figure('16cm', '9cm',\n",
    "        sc.Panel(\n",
    "          sc.SVG('figures/sync_traces.svg'),\n",
    "          sc.Text('B', 30, 20, size=14)\n",
    "        ).move(100, 0),\n",
    "        sc.Panel(\n",
    "          sc.Text('D', 0, 0, size=14),\n",
    "          sc.SVG('figures/pli_vs_freq.svg')\n",
    "        ).move(260, 160),\n",
    "        sc.Panel(\n",
    "          sc.Text('A', 0, -10, size=14),\n",
    "          sc.SVG('figures/entrained-schematics.svg'\n",
    "          ).scale(0.6)\n",
    "        ).move(0, 30),\n",
    "        sc.Panel(\n",
    "          sc.Text('C', 0, 0, size=14),\n",
    "          sc.SVG('figures/up_state_frequency.svg')        \n",
    "        ).move(20, 160)\n",
    "    )"
   ]
  },
  {
   "cell_type": "code",
   "execution_count": null,
   "metadata": {},
   "outputs": [],
   "source": [
    "from IPython.display import SVG, display"
   ]
  },
  {
   "cell_type": "code",
   "execution_count": null,
   "metadata": {},
   "outputs": [],
   "source": [
    "fig.save('figures/inverted_slices_composed.svg')"
   ]
  },
  {
   "cell_type": "code",
   "execution_count": null,
   "metadata": {},
   "outputs": [],
   "source": [
    "svg = SVG(filename='figures/inverted_slices_composed.svg')\n",
    "display(svg)"
   ]
  },
  {
   "cell_type": "markdown",
   "metadata": {},
   "source": [
    "**Figure** Entrainment of the UP-DOWN oscillations to the periodic glutamate stimulation on both sides of the sectioned slice.  ( **A** ) Schematics of the stimulation protocol. In the model glutamate injection (Stim) is applied on the right side of the slice (green) triggering periodic UP states on both sides (yellow). ( **B** ) Sample traces of excitatory population rate (color coded, compare with (A)) on both sides of the slice at three stimulation frequencies (red line, see the numbers in (B) and (C) for the values of the frequencies). ( **C** ) The frequency of the UP states in both parts of the slice is shown as the function of stimulation frequency (color code same as in (A)).  Slice to the left of the cut frequency-locks to the stimulation by means of the electric-field (ephaptic) coupling. ( **D** ) The precision of the entrainment depends on the frequency of the glutamate injection (stimulation frequency) as quantified by the phase locking index (PLI). Larger PLI indicates stronger synchronisation. "
   ]
  },
  {
   "cell_type": "code",
   "execution_count": null,
   "metadata": {},
   "outputs": [],
   "source": []
  },
  {
   "cell_type": "code",
   "execution_count": null,
   "metadata": {},
   "outputs": [],
   "source": []
  }
 ],
 "metadata": {
  "kernelspec": {
   "display_name": "Python 3",
   "language": "python",
   "name": "python3"
  },
  "language_info": {
   "codemirror_mode": {
    "name": "ipython",
    "version": 3
   },
   "file_extension": ".py",
   "mimetype": "text/x-python",
   "name": "python",
   "nbconvert_exporter": "python",
   "pygments_lexer": "ipython3",
   "version": "3.8.3"
  },
  "toc": {
   "nav_menu": {},
   "number_sections": true,
   "sideBar": true,
   "skip_h1_title": false,
   "toc_cell": false,
   "toc_position": {},
   "toc_section_display": "block",
   "toc_window_display": false
  }
 },
 "nbformat": 4,
 "nbformat_minor": 2
}
